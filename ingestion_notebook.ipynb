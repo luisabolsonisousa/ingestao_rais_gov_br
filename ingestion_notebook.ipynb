{
 "cells": [
  {
   "cell_type": "code",
   "execution_count": 1,
   "metadata": {},
   "outputs": [],
   "source": [
    "\n",
    "import requests\n",
    "import os\n",
    "from requests.packages.urllib3.exceptions import InsecureRequestWarning\n",
    "from bs4 import BeautifulSoup\n",
    "import urllib3\n"
   ]
  },
  {
   "cell_type": "code",
   "execution_count": 2,
   "metadata": {},
   "outputs": [],
   "source": [
    "import urllib3\n",
    "urllib3.disable_warnings(urllib3.exceptions.InsecureRequestWarning)\n"
   ]
  },
  {
   "cell_type": "code",
   "execution_count": 12,
   "metadata": {},
   "outputs": [],
   "source": [
    "\n",
    "# URL do endpoint\n",
    "url = \"https://bi.mte.gov.br/scripts10/dardoweb.cgi\"\n",
    "path_current_folder  = os.getcwd()"
   ]
  },
  {
   "cell_type": "markdown",
   "metadata": {},
   "source": []
  },
  {
   "cell_type": "code",
   "execution_count": 7,
   "metadata": {},
   "outputs": [],
   "source": [
    "def ingestao_rais(start,end,queries):    \n",
    "    for chave, valor in queries.items():\n",
    "        folder_name = chave\n",
    "        print(folder_name)\n",
    "        for i in range(start, final):\n",
    "            ano_variavel = i\n",
    "            print(i)\n",
    "            query_string = valor\n",
    "            # Substitui {ano_variavel} pelo valor de ano_variavel\n",
    "            query_string = query_string.replace(\"ANOVARIAVEL\", str(ano_variavel))\n",
    "            print(query_string)\n",
    "            # Envia a solicitação POST\n",
    "            response = requests.post(url, data=query_string,verify=False)\n",
    "\n",
    "            # Resposta do servidor\n",
    "            html = response.text\n",
    "\n",
    "            soup = BeautifulSoup(html, 'html.parser')\n",
    "\n",
    "            link_original = soup.find('frame', {'name': 'tabela'}).get('src')\n",
    "\n",
    "            link_csv = link_original[:-5] + \".csv\"\n",
    "\n",
    "            # Desabilitar os avisos de solicitações inseguras (SSL)\n",
    "            requests.packages.urllib3.disable_warnings(InsecureRequestWarning)\n",
    "            # Link do arquivo CSV\n",
    "            url_csv = link_csv\n",
    "\n",
    "            # Faz o download do arquivo\n",
    "            response_csv = requests.get(url_csv, verify=False)\n",
    "\n",
    "            # Caminho do diretório local onde você deseja salvar o arquivo\n",
    "            diretorio_local = f\"{path_current_folder}/{folder_name}\"\n",
    "\n",
    "            # Se o diretório não existir, cria-o\n",
    "            if not os.path.exists(diretorio_local):\n",
    "                os.makedirs(diretorio_local)\n",
    "\n",
    "            # Caminho completo do arquivo local\n",
    "            caminho_local = os.path.join(diretorio_local, f\"{folder_name}_{ano_variavel}.csv\")\n",
    "            print(f\"Valor de ano_variavel: {ano_variavel}\")\n",
    "            # ...\n",
    "\n",
    "            # Verifica se o download foi bem-sucedido (código de status 200)\n",
    "            if response_csv.status_code == 200:\n",
    "                # Salva o conteúdo no arquivo local com o nome desejado\n",
    "                with open(caminho_local, 'wb') as file:\n",
    "                    file.write(response_csv.content)\n",
    "                print(f\"Download concluído. Arquivo salvo em {caminho_local}\")\n",
    "            else:\n",
    "                print(f\"Erro ao baixar o arquivo. Código de status: {response_csv.status_code}\")\n",
    "                "
   ]
  },
  {
   "cell_type": "code",
   "execution_count": 13,
   "metadata": {},
   "outputs": [],
   "source": [
    "start = 2006\n",
    "final = 2023\n",
    "queries = {\n",
    "            #\"idade\":f\"NT=86301101&EA=https%3A%2F%2Fbi.mte.gov.br%2Fbgcaged%2Fcaged_rais_vinculo_id%2F&EC=0%3B7C725A%3BBAB19E%3BD9D6CA%3BF0EEDB&AQ=caged_rais_vinculo_basico_tab.par&AC=1&XC=1&IN=1&UM=1&UU=0&US=basico&DF=https%3A%2F%2Fbi.mte.gov.br%2Fbgcaged%2Fcaged_rais_vinculo_id%2Fcaged_rais_vinculo_basico_tab.php&ND=&CJ=Base+de+Gest%E3o+do+MTE%3A%3ACAGED&LI=Capital&V1=Ano+inicial&V2=Ano+final&CO=Sexo+Trabalhador&V3=Ano+inicial&V4=Ano+final&UB=Faixa+Et%E1ria&V9=Ano+inicial&V0=Ano+final&QU=---------N%E3o---------&V5=Ano+inicial&V6=Ano+final&SL=Faixa+Remun+M%E9dia+%28SM%29&V7=Ano+inicial&V8=Ano+final&CN=-%3EFrequ%EAncia&CE1=Soma&TT=&IU=&OL=SemOrdem&OC=SemOrdem&OQ=SemOrdem&PL=&YZAno=0&YCAno=%22ANOVARIAVEL%22%3ANOME%3BANOVARIAVEL&YZV%EDnculo+Ativo+31%2F12=0&YCV%EDnculo+Ativo+31%2F12=%221%22%3ANOME%3BSim\",\n",
    "            #\"ibge\" : f\"NT=9450651&EA=https%3A%2F%2Fbi.mte.gov.br%2Fbgcaged%2Fcaged_rais_vinculo_id%2F&EC=0%3B7C725A%3BBAB19E%3BD9D6CA%3BF0EEDB&AQ=caged_rais_vinculo_basico_tab.par&AC=1&XC=1&IN=1&UM=1&UU=0&US=basico&DF=https%3A%2F%2Fbi.mte.gov.br%2Fbgcaged%2Fcaged_rais_vinculo_id%2Fcaged_rais_vinculo_basico_tab.php&ND=&CJ=Base+de+Gest%E3o+do+MTE%3A%3ACAGED&LI=Capital&V1=Ano+inicial&V2=Ano+final&CO=Sexo+Trabalhador&V3=Ano+inicial&V4=Ano+final&UB=IBGE+Subsetor&V9=Ano+inicial&V0=Ano+final&QU=---------N%E3o---------&V5=Ano+inicial&V6=Ano+final&SL=Faixa+Remun+M%E9dia+%28SM%29&V7=Ano+inicial&V8=Ano+final&CN=-%3EFrequ%EAncia&CE1=Soma&TT=&IU=&OL=SemOrdem&OC=SemOrdem&OQ=SemOrdem&PL=&YZAno=0&YCAno=%22ANOVARIAVEL%22%3ANOME%3BANOVARIAVEL&YZV%EDnculo+Ativo+31%2F12=0&YCV%EDnculo+Ativo+31%2F12=%221%22%3ANOME%3BSim\",\n",
    "            #\"cnae\" : f\"NT=34137916&EA=https%3A%2F%2Fbi.mte.gov.br%2Fbgcaged%2Fcaged_rais_vinculo_id%2F&EC=0%3B7C725A%3BBAB19E%3BD9D6CA%3BF0EEDB&AQ=caged_rais_vinculo_basico_tab.par&AC=1&XC=1&IN=1&UM=1&UU=0&US=basico&DF=https%3A%2F%2Fbi.mte.gov.br%2Fbgcaged%2Fcaged_rais_vinculo_id%2Fcaged_rais_vinculo_basico_tab.php&ND=&CJ=Base+de+Gest%E3o+do+MTE%3A%3ACAGED&LI=Capital&V1=Ano+inicial&V2=Ano+final&CO=Sexo+Trabalhador&V3=Ano+inicial&V4=Ano+final&UB=CNAE+2.0+Grupo&V9=Ano+inicial&V0=Ano+final&QU=---------N%E3o---------&V5=Ano+inicial&V6=Ano+final&SL=Faixa+Remun+M%E9dia+%28SM%29&V7=Ano+inicial&V8=Ano+final&CN=-%3EFrequ%EAncia&CE1=Soma&TT=&IU=&OL=SemOrdem&OC=SemOrdem&OQ=SemOrdem&PL=&YZAno=0&YCAno=%22ANOVARIAVEL%22%3ANOME%3BANOVARIAVEL&YZV%EDnculo+Ativo+31%2F12=0&YCV%EDnculo+Ativo+31%2F12=%221%22%3ANOME%3BSim\",\n",
    "            #\"escolaridade\" : f\"NT=90372918&EA=https%3A%2F%2Fbi.mte.gov.br%2Fbgcaged%2Fcaged_rais_vinculo_id%2F&EC=0%3B7C725A%3BBAB19E%3BD9D6CA%3BF0EEDB&AQ=caged_rais_vinculo_basico_tab.par&AC=1&XC=1&IN=1&UM=1&UU=0&US=basico&DF=https%3A%2F%2Fbi.mte.gov.br%2Fbgcaged%2Fcaged_rais_vinculo_id%2Fcaged_rais_vinculo_basico_tab.php&ND=&CJ=Base+de+Gest%E3o+do+MTE%3A%3ACAGED&LI=Capital&V1=Ano+inicial&V2=Ano+final&CO=Sexo+Trabalhador&V3=Ano+inicial&V4=Ano+final&UB=Escolaridade+ap%F3s+2005&V9=Ano+inicial&V0=Ano+final&QU=---------N%E3o---------&V5=Ano+inicial&V6=Ano+final&SL=Faixa+Remun+M%E9dia+%28SM%29&V7=Ano+inicial&V8=Ano+final&CN=-%3EFrequ%EAncia&CE1=Soma&TT=&IU=&OL=SemOrdem&OC=SemOrdem&OQ=SemOrdem&PL=&YZAno=0&YCAno=%22ANOVARIAVEL%22%3ANOME%3BANOVARIAVEL&YZV%EDnculo+Ativo+31%2F12=0&YCV%EDnculo+Ativo+31%2F12=%221%22%3ANOME%3BSim\",\n",
    "            #\"vinculo\" : f\"NT=53707476&EA=https%3A%2F%2Fbi.mte.gov.br%2Fbgcaged%2Fcaged_rais_vinculo_id%2F&EC=0%3B7C725A%3BBAB19E%3BD9D6CA%3BF0EEDB&AQ=caged_rais_vinculo_basico_tab.par&AC=1&XC=1&IN=1&UM=1&UU=0&US=basico&DF=https%3A%2F%2Fbi.mte.gov.br%2Fbgcaged%2Fcaged_rais_vinculo_id%2Fcaged_rais_vinculo_basico_tab.php&ND=&CJ=Base+de+Gest%E3o+do+MTE%3A%3ACAGED&LI=Capital&V1=Ano+inicial&V2=Ano+final&CO=Sexo+Trabalhador&V3=Ano+inicial&V4=Ano+final&UB=Tipo+V%EDnculo&V9=Ano+inicial&V0=Ano+final&QU=---------N%E3o---------&V5=Ano+inicial&V6=Ano+final&SL=Faixa+Remun+M%E9dia+%28SM%29&V7=Ano+inicial&V8=Ano+final&CN=-%3EFrequ%EAncia&CE1=Soma&TT=&IU=&OL=SemOrdem&OC=SemOrdem&OQ=SemOrdem&PL=&YZAno=0&YCAno=%22ANOVARIAVEL%22%3ANOME%3BANOVARIAVEL&YZV%EDnculo+Ativo+31%2F12=0&YCV%EDnculo+Ativo+31%2F12=%221%22%3ANOME%3BSim\" \n",
    "            \"total_pessoas\" :f\"NT=57521860&EA=https%3A%2F%2Fbi.mte.gov.br%2Fbgcaged%2Fcaged_rais_vinculo_id%2F&EC=0%3B7C725A%3BBAB19E%3BD9D6CA%3BF0EEDB&AQ=caged_rais_vinculo_basico_tab.par&AC=1&XC=1&IN=1&UM=1&UU=0&US=basico&DF=https%3A%2F%2Fbi.mte.gov.br%2Fbgcaged%2Fcaged_rais_vinculo_id%2Fcaged_rais_vinculo_basico_tab.php&ND=&CJ=Base+de+Gest%E3o+do+MTE%3A%3ACAGED&LI=Capital&V1=Ano+inicial&V2=Ano+final&CO=Sexo+Trabalhador&V3=Ano+inicial&V4=Ano+final&UB=---------N%E3o---------&V9=Ano+inicial&V0=Ano+final&QU=---------N%E3o---------&V5=Ano+inicial&V6=Ano+final&SL=Faixa+Remun+M%E9dia+%28SM%29&V7=Ano+inicial&V8=Ano+final&CN=-%3EFrequ%EAncia&CE1=Soma&TT=&IU=&OL=SemOrdem&OC=SemOrdem&OQ=SemOrdem&PL=&YZAno=0&YCAno=%22ANOVARIAVEL%22%3ANOME%3BANOVARIAVEL&YZV%EDnculo+Ativo+31%2F12=0&YCV%EDnculo+Ativo+31%2F12=%221%22%3ANOME%3BSim\"\n",
    "           }\n"
   ]
  },
  {
   "cell_type": "code",
   "execution_count": null,
   "metadata": {},
   "outputs": [],
   "source": [
    "ingestao_rais(start,final,queries)"
   ]
  }
 ],
 "metadata": {
  "kernelspec": {
   "display_name": "Python 3",
   "language": "python",
   "name": "python3"
  },
  "language_info": {
   "codemirror_mode": {
    "name": "ipython",
    "version": 3
   },
   "file_extension": ".py",
   "mimetype": "text/x-python",
   "name": "python",
   "nbconvert_exporter": "python",
   "pygments_lexer": "ipython3",
   "version": "3.11.4"
  }
 },
 "nbformat": 4,
 "nbformat_minor": 2
}
